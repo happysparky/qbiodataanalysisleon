{
 "cells": [
  {
   "cell_type": "code",
   "execution_count": 1,
   "metadata": {},
   "outputs": [
    {
     "name": "stderr",
     "output_type": "stream",
     "text": [
      "Loading required package: TCGAbiolinks\n",
      "\n"
     ]
    }
   ],
   "source": [
    "#install.packages(\"BiocManager\")\n",
    "#install.packages(\"matrixStats\")\n",
    "#Installs TCGAbiolinks if not already present\n",
    "if (!require(TCGAbiolinks)) BiocManager::install(\"TCGAbiolinks\")\n",
    "\n",
    "#What line of code needs to be added before using TCGAbiolinks?\n",
    "library(TCGAbiolinks)\n",
    "#add barcodes argument to query if you want to run on your local machine for smaller files downloaded\n",
    "barcodes_rnaseq <- c(\"TCGA-BH-A0DG-01A-21R-A12P-07\",\"TCGA-A2-A0YF-01A-21R-A109-07\",\n",
    "          \"TCGA-AN-A04A-01A-21R-A034-07\",\"TCGA-AR-A1AP-01A-11R-A12P-07\",\n",
    "              \"TCGA-A2-A0T3-01A-21R-A115-07\", \"TCGA-E2-A154-01A-11R-A115-07\" )\n",
    "#barcodes_clinic <- c(\"TCGA-BH-A0DG\",\"TCGA-A2-A0YF\",\"TCGA-AN-A04A\",\"TCGA-AR-A1AP\", \"TCGA-A2-A0T3\",\n",
    "                      #\"TCGA-E2-A154\", \"TCGA-AO-A12F\", \"TCGA-A2-A0YM\", \"TCGA-BH-A0E0\", \"TCGA-AN-A0FL\")\n"
   ]
  },
  {
   "cell_type": "code",
   "execution_count": 2,
   "metadata": {},
   "outputs": [
    {
     "name": "stdout",
     "output_type": "stream",
     "text": [
      "[1] \"here\"\n"
     ]
    },
    {
     "name": "stderr",
     "output_type": "stream",
     "text": [
      "Loading required package: MatrixGenerics\n",
      "\n",
      "Loading required package: matrixStats\n",
      "\n",
      "\n",
      "Attaching package: 'MatrixGenerics'\n",
      "\n",
      "\n",
      "The following objects are masked from 'package:matrixStats':\n",
      "\n",
      "    colAlls, colAnyNAs, colAnys, colAvgsPerRowSet, colCollapse,\n",
      "    colCounts, colCummaxs, colCummins, colCumprods, colCumsums,\n",
      "    colDiffs, colIQRDiffs, colIQRs, colLogSumExps, colMadDiffs,\n",
      "    colMads, colMaxs, colMeans2, colMedians, colMins, colOrderStats,\n",
      "    colProds, colQuantiles, colRanges, colRanks, colSdDiffs, colSds,\n",
      "    colSums2, colTabulates, colVarDiffs, colVars, colWeightedMads,\n",
      "    colWeightedMeans, colWeightedMedians, colWeightedSds,\n",
      "    colWeightedVars, rowAlls, rowAnyNAs, rowAnys, rowAvgsPerColSet,\n",
      "    rowCollapse, rowCounts, rowCummaxs, rowCummins, rowCumprods,\n",
      "    rowCumsums, rowDiffs, rowIQRDiffs, rowIQRs, rowLogSumExps,\n",
      "    rowMadDiffs, rowMads, rowMaxs, rowMeans2, rowMedians, rowMins,\n",
      "    rowOrderStats, rowProds, rowQuantiles, rowRanges, rowRanks,\n",
      "    rowSdDiffs, rowSds, rowSums2, rowTabulates, rowVarDiffs, rowVars,\n",
      "    rowWeightedMads, rowWeightedMeans, rowWeightedMedians,\n",
      "    rowWeightedSds, rowWeightedVars\n",
      "\n",
      "\n",
      "Loading required package: GenomicRanges\n",
      "\n",
      "Loading required package: stats4\n",
      "\n",
      "Loading required package: BiocGenerics\n",
      "\n",
      "Loading required package: parallel\n",
      "\n",
      "\n",
      "Attaching package: 'BiocGenerics'\n",
      "\n",
      "\n",
      "The following objects are masked from 'package:parallel':\n",
      "\n",
      "    clusterApply, clusterApplyLB, clusterCall, clusterEvalQ,\n",
      "    clusterExport, clusterMap, parApply, parCapply, parLapply,\n",
      "    parLapplyLB, parRapply, parSapply, parSapplyLB\n",
      "\n",
      "\n",
      "The following objects are masked from 'package:stats':\n",
      "\n",
      "    IQR, mad, sd, var, xtabs\n",
      "\n",
      "\n",
      "The following objects are masked from 'package:base':\n",
      "\n",
      "    anyDuplicated, append, as.data.frame, basename, cbind, colnames,\n",
      "    dirname, do.call, duplicated, eval, evalq, Filter, Find, get, grep,\n",
      "    grepl, intersect, is.unsorted, lapply, Map, mapply, match, mget,\n",
      "    order, paste, pmax, pmax.int, pmin, pmin.int, Position, rank,\n",
      "    rbind, Reduce, rownames, sapply, setdiff, sort, table, tapply,\n",
      "    union, unique, unsplit, which.max, which.min\n",
      "\n",
      "\n",
      "Loading required package: S4Vectors\n",
      "\n",
      "\n",
      "Attaching package: 'S4Vectors'\n",
      "\n",
      "\n",
      "The following object is masked from 'package:base':\n",
      "\n",
      "    expand.grid\n",
      "\n",
      "\n",
      "Loading required package: IRanges\n",
      "\n",
      "\n",
      "Attaching package: 'IRanges'\n",
      "\n",
      "\n",
      "The following object is masked from 'package:grDevices':\n",
      "\n",
      "    windows\n",
      "\n",
      "\n",
      "Loading required package: GenomeInfoDb\n",
      "\n",
      "Loading required package: Biobase\n",
      "\n",
      "Welcome to Bioconductor\n",
      "\n",
      "    Vignettes contain introductory material; view with\n",
      "    'browseVignettes()'. To cite Bioconductor, see\n",
      "    'citation(\"Biobase\")', and for packages 'citation(\"pkgname\")'.\n",
      "\n",
      "\n",
      "\n",
      "Attaching package: 'Biobase'\n",
      "\n",
      "\n",
      "The following object is masked from 'package:MatrixGenerics':\n",
      "\n",
      "    rowMedians\n",
      "\n",
      "\n",
      "The following objects are masked from 'package:matrixStats':\n",
      "\n",
      "    anyMissing, rowMedians\n",
      "\n",
      "\n",
      "--------------------------------------\n",
      "\n",
      "o GDCquery: Searching in GDC database\n",
      "\n",
      "--------------------------------------\n",
      "\n",
      "Genome of reference: hg38\n",
      "\n",
      "--------------------------------------------\n",
      "\n",
      "oo Accessing GDC. This might take a while...\n",
      "\n",
      "--------------------------------------------\n",
      "\n",
      "ooo Project: TCGA-BRCA\n",
      "\n",
      "--------------------\n",
      "\n",
      "oo Filtering results\n",
      "\n",
      "--------------------\n",
      "\n",
      "ooo By data.type\n",
      "\n",
      "ooo By workflow.type\n",
      "\n",
      "ooo By barcode\n",
      "\n",
      "----------------\n",
      "\n",
      "oo Checking data\n",
      "\n",
      "----------------\n",
      "\n",
      "ooo Check if there are duplicated cases\n",
      "\n",
      "ooo Check if there results for the query\n",
      "\n",
      "-------------------\n",
      "\n",
      "o Preparing output\n",
      "\n",
      "-------------------\n",
      "\n",
      "Downloading data for project TCGA-BRCA\n",
      "\n",
      "Of the 6 files for download 6 already exist.\n",
      "\n",
      "All samples have been already downloaded\n",
      "\n"
     ]
    },
    {
     "name": "stdout",
     "output_type": "stream",
     "text": [
      "|====================================================|100%                      Completed after 1 s \n"
     ]
    },
    {
     "name": "stderr",
     "output_type": "stream",
     "text": [
      "Starting to add information to samples\n",
      "\n",
      " => Add clinical information to samples\n",
      "\n",
      " => Adding TCGA molecular information from marker papers\n",
      "\n",
      " => Information will have prefix 'paper_' \n",
      "\n",
      "brca subtype information from:doi.org/10.1016/j.ccell.2018.03.014\n",
      "\n",
      "From the 60483 genes we couldn't map 3881\n",
      "\n"
     ]
    }
   ],
   "source": [
    "print(\"here\")\n",
    "#######    Group 1: RNASeq     ############\n",
    " library(SummarizedExperiment)\n",
    " query <- GDCquery(project = \"TCGA-BRCA\",\n",
    "                   data.category = \"Transcriptome Profiling\",\n",
    "                   data.type = \"Gene Expression Quantification\",\n",
    "                   workflow.type = \"HTSeq - Counts\",\n",
    "                   barcode = barcodes_rnaseq)\n",
    " GDCdownload(query) #only need this line of code once to download the data\n",
    " sum_exp <- GDCprepare(query)"
   ]
  },
  {
   "cell_type": "code",
   "execution_count": 4,
   "metadata": {},
   "outputs": [],
   "source": [
    "\n",
    "# Create a tutorial on SummarizedExperiment\n",
    "\n",
    "#sum_exp\n",
    "patient_data <- colData(sum_exp)\n",
    "patient_ages <- patient_data$paper_age_at_initial_pathologic_diagnosis\n",
    "patient_data$age_category = ifelse(patient_ages < 40, \"Young\", ifelse(patient_ages >= 60, \"Old\", \"Mid\"))\n",
    "\n",
    "#colnames(colData(sum_exp))\n",
    "\n",
    "# Boxplots by age\n",
    "# Add a new column to colData called \"age_category\"\n",
    "# If age_at_initial_pathologic_diagnosis is < 40, define patient as \"Young\" in new column\n",
    "# If age_at_initial_pathologic_diagnosis is >= 60, define patient as \"Old\" in new column\n",
    "# Other patients (between 40 and 60), define as \"Mid\"\n",
    "# Choose 3 genes of interest from the paper presentations\n",
    "# Create 3 different boxplots with age_category on x-axis, counts on the y-axis by repeating the below code for each ge$# remember to give your plot a title and informative axis labels\n",
    "# png(\"boxplot_one.png\")\n",
    "# boxplot(sum_exp)\n",
    "# *Feel free to add lines here that format your boxplot*\n",
    "# dev.off()\n",
    "# Use rsync to copy your create pngfile to local machine for viewing"
   ]
  },
  {
   "cell_type": "code",
   "execution_count": 5,
   "metadata": {},
   "outputs": [],
   "source": [
    "htseq_counts <- assays(sum_exp)$\"HTSeq - Counts\""
   ]
  },
  {
   "cell_type": "code",
   "execution_count": 6,
   "metadata": {},
   "outputs": [],
   "source": [
    "patient_data$TP53_counts = htseq_counts[\"ENSG00000141510\",]\n",
    "patient_data$ERBB2_counts = htseq_counts[\"ENSG00000141736\",]\n",
    "patient_data$PIK3CA_counts = htseq_counts[\"ENSG00000121879\",]"
   ]
  },
  {
   "cell_type": "code",
   "execution_count": 22,
   "metadata": {},
   "outputs": [
    {
     "data": {
      "image/png": "[encoded data removed]",
      "text/plain": [
       "Plot with title \"HTSeq - Counts for TP53 by Age Category\""
      ]
     },
     "metadata": {
      "image/png": {
       "height": 420,
       "width": 420
      }
     },
     "output_type": "display_data"
    }
   ],
   "source": [
    "#patient_data\n",
    "#TP53_counts~patient_ages\n",
    "plot(TP53_counts~patient_ages, data = patient_data, main = \"HTSeq - Counts for TP53 by Age Category\")\n"
   ]
  },
  {
   "cell_type": "code",
   "execution_count": 10,
   "metadata": {},
   "outputs": [
    {
     "data": {
      "image/png": "[encoded data removed]",
      "text/plain": [
       "Plot with title \"Boxplot of HTSeq - Counts for TP53 by Age Category\""
      ]
     },
     "metadata": {
      "image/png": {
       "height": 420,
       "width": 420
      }
     },
     "output_type": "display_data"
    },
    {
     "data": {
      "image/png": "[encoded data removed]",
      "text/plain": [
       "Plot with title \"Boxplot of HTSeq - Counts for ERBB2 by Age Category\""
      ]
     },
     "metadata": {
      "image/png": {
       "height": 420,
       "width": 420
      }
     },
     "output_type": "display_data"
    },
    {
     "data": {
      "image/png": "[encoded data removed]",
      "text/plain": [
       "Plot with title \"Boxplot of HTSeq - Counts for PIK3CA by Age Category\""
      ]
     },
     "metadata": {
      "image/png": {
       "height": 420,
       "width": 420
      }
     },
     "output_type": "display_data"
    }
   ],
   "source": [
    "boxplot(TP53_counts~age_category, data = patient_data, main = \"Boxplot of HTSeq - Counts for TP53 by Age Category\")\n",
    "boxplot(ERBB2_counts~age_category, data = patient_data, main = \"Boxplot of HTSeq - Counts for ERBB2 by Age Category\")\n",
    "boxplot(PIK3CA_counts~age_category, data = patient_data, main = \"Boxplot of HTSeq - Counts for PIK3CA by Age Category\")"
   ]
  },
  {
   "cell_type": "code",
   "execution_count": null,
   "metadata": {},
   "outputs": [],
   "source": []
  }
 ],
 "metadata": {
  "kernelspec": {
   "display_name": "R",
   "language": "R",
   "name": "ir"
  },
  "language_info": {
   "codemirror_mode": "r",
   "file_extension": ".r",
   "mimetype": "text/x-r-source",
   "name": "R",
   "pygments_lexer": "r",
   "version": "4.0.3"
  }
 },
 "nbformat": 4,
 "nbformat_minor": 4
}
