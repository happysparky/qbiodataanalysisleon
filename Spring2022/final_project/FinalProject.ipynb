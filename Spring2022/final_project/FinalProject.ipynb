{
 "cells": [
  {
   "cell_type": "code",
   "execution_count": 1,
   "id": "2a707172",
   "metadata": {
    "scrolled": true
   },
   "outputs": [
    {
     "name": "stderr",
     "output_type": "stream",
     "text": [
      "cptac warning: Your version of cptac (0.8.8) is out-of-date. Latest is 1.1.0. Please run 'pip install --upgrade cptac' to update it. (<ipython-input-1-d853f64972b6>, line 1)\n"
     ]
    }
   ],
   "source": [
    "import cptac\n",
    "import numpy as np\n",
    "import pandas as pd\n",
    "import matplotlib.pyplot as plt\n",
    "import seaborn as sns\n",
    "from scipy import stats\n",
    "\n"
   ]
  },
  {
   "cell_type": "code",
   "execution_count": 2,
   "id": "b0553848",
   "metadata": {},
   "outputs": [
    {
     "name": "stdout",
     "output_type": "stream",
     "text": [
      "                                          \r"
     ]
    }
   ],
   "source": [
    "# Download the colorectal data set\n",
    "cptac.download(dataset=\"Colon\")\n",
    "\n",
    "# Load the colon cancer data set\n",
    "colon = cptac.Colon()"
   ]
  },
  {
   "cell_type": "code",
   "execution_count": 3,
   "id": "672aa534",
   "metadata": {},
   "outputs": [],
   "source": [
    "protein_data = colon.get_proteomics() # get the proteomics data"
   ]
  },
  {
   "cell_type": "code",
   "execution_count": 4,
   "id": "965aa585",
   "metadata": {},
   "outputs": [],
   "source": [
    "rna_data = colon.get_transcriptomics()"
   ]
  },
  {
   "cell_type": "code",
   "execution_count": 5,
   "id": "da225778",
   "metadata": {},
   "outputs": [],
   "source": [
    "clinical_data = colon.get_clinical()\n",
    "\n",
    "# convert ages \n",
    "clinical_data.loc[:,\"Age\"] = clinical_data.loc[:, \"Age\"]/12"
   ]
  },
  {
   "cell_type": "code",
   "execution_count": 6,
   "id": "6c01ba8f",
   "metadata": {},
   "outputs": [],
   "source": [
    "name_intersects = [\n",
    "    np.intersect1d(protein_data.index, rna_data.index), # 0. fill in intersecting for protein/rna here\n",
    "    np.intersect1d(protein_data.index, clinical_data.index), # 1. fill in intersecting for protein/clinical here\n",
    "    np.intersect1d(rna_data.index, clinical_data.index), # 2. fill in the intersecting for rna/clinical here\n",
    "]"
   ]
  },
  {
   "cell_type": "code",
   "execution_count": 40,
   "id": "20d5188a",
   "metadata": {},
   "outputs": [],
   "source": [
    "# Identify the genes (RNA, protein) shared between the two data sets \n",
    "shared_rna_prot = np.intersect1d(rna_data.columns, protein_data.columns)\n",
    "\n",
    "# Create the two data frames\n",
    "rna_shared = rna_data.loc[name_intersects[0], shared_rna_prot]\n",
    "prot_shared = protein_data.loc[name_intersects[0], shared_rna_prot]"
   ]
  },
  {
   "cell_type": "code",
   "execution_count": 41,
   "id": "wanted-alfred",
   "metadata": {},
   "outputs": [
    {
     "name": "stdout",
     "output_type": "stream",
     "text": [
      "TP53\n",
      "KRAS\n",
      "SYNE1\n",
      "PIK3CA\n"
     ]
    }
   ],
   "source": [
    "shared_genes = [\"APC\", \"TP53\", \"TTN\", \"KRAS\", \"SYNE1\", \"MUC16\"]\n",
    "general_top = [\"APC\", \"TP53\", \"TTN\", \"KRAS\", \"MUC16\", \"SYNE1\", \"PIK3CA\",\n",
    "               \"FAT4\",\"RYR2\", \"ZFHX4\", \"OBSCN\", \"DNAH5\", \"LRP1B\", \"PCLO\", \n",
    "              \"ABCA13\", \"DNAH11\", \"CSMD3\", \"FAT3\", \"CSMD1\", \"USH2A\",\n",
    "              \"NEB\", \"SPTA1\", \"TRPS1\", \"ADGRV1\", \"KMT2D\", \"PCLO\"]\n",
    "\n",
    "for i in general_top:\n",
    "    if i in rna_shared.columns:\n",
    "        print(i)"
   ]
  },
  {
   "cell_type": "code",
   "execution_count": 42,
   "id": "3f5ff1ba",
   "metadata": {},
   "outputs": [],
   "source": [
    "ncomparisons = 4 # define this variable in case we want to change the number of correlations to test\n",
    "                  # this makes it less likely you'll forget to change a number, e.g. in the data frame shape\n",
    "    \n",
    "rna_data.columns\n",
    "gene_names = rna_shared.columns[:20] # get the first ncomparisons gene names\n",
    "gene_names = [\"TP53\", \"KRAS\", \"SYNE1\", \"PIK3CA\"]\n",
    "\n",
    "# Don't worry about this code\n",
    "# It's good practice to declare your data frame beforehand (it's much faster than appending to a list)\n",
    "# We fill everything in with 0 just as a placeholder\n",
    "corr_df = pd.DataFrame(np.ndarray(shape=(ncomparisons, ncomparisons), dtype=np.float16),\n",
    "                      index = gene_names,\n",
    "                      columns = gene_names)\n",
    "\n",
    "\n",
    "\n"
   ]
  },
  {
   "cell_type": "code",
   "execution_count": 43,
   "id": "expensive-speech",
   "metadata": {},
   "outputs": [],
   "source": [
    "# create rna by rna heatmap\n",
    "for g1 in gene_names:\n",
    "    for g2 in gene_names:\n",
    "        # calculate the correlations between protein and RNA\n",
    "        # then, use .loc[] to store the correlation in corr_df\n",
    "        corr, pval = stats.spearmanr(rna_shared[g1], rna_shared[g2], nan_policy=\"omit\")\n",
    "        corr_df.loc[g1, g2] = corr"
   ]
  },
  {
   "cell_type": "code",
   "execution_count": 44,
   "id": "primary-finish",
   "metadata": {},
   "outputs": [
    {
     "data": {
      "image/png": "[encoded data removed]",
      "text/plain": [
       "<Figure size 432x288 with 2 Axes>"
      ]
     },
     "metadata": {
      "needs_background": "light"
     },
     "output_type": "display_data"
    }
   ],
   "source": [
    "sns.heatmap(\n",
    "    corr_df,\n",
    "    cmap='mako',\n",
    "    cbar_kws={\"label\": \"Correlation\"}\n",
    ")\n",
    "\n",
    "plt.xlabel('Gene Name (RNA Expression)') \n",
    "plt.ylabel('Gene Name (RNA Expression)')\n",
    "# plt.colorbar\n",
    "# ax.collections[0].colorbar.set_label(\"Hello\")\n",
    "\n",
    "plt.savefig(\"spearman_rna.png\")\n",
    "plt.show()\n"
   ]
  },
  {
   "cell_type": "code",
   "execution_count": 45,
   "id": "extraordinary-filling",
   "metadata": {},
   "outputs": [],
   "source": [
    "# create protien by protein heatmap\n",
    "for g1 in gene_names:\n",
    "    for g2 in gene_names:\n",
    "        # calculate the correlations between protein and RNA\n",
    "        # then, use .loc[] to store the correlation in corr_df\n",
    "        corr, pval = stats.spearmanr(prot_shared[g1], prot_shared[g2], nan_policy=\"omit\")\n",
    "        corr_df.loc[g1, g2] = corr"
   ]
  },
  {
   "cell_type": "code",
   "execution_count": 46,
   "id": "activated-eagle",
   "metadata": {},
   "outputs": [
    {
     "data": {
      "image/png": "[encoded data removed]",
      "text/plain": [
       "<Figure size 432x288 with 2 Axes>"
      ]
     },
     "metadata": {
      "needs_background": "light"
     },
     "output_type": "display_data"
    }
   ],
   "source": [
    "sns.heatmap(\n",
    "    corr_df,\n",
    "    cmap='mako',\n",
    "    cbar_kws={\"label\": \"Correlation\"}\n",
    ")\n",
    "\n",
    "plt.xlabel('Gene Name (Protein Level)') \n",
    "plt.ylabel('Gene Name (Protein Level)')\n",
    "# plt.colorbar\n",
    "# ax.collections[0].colorbar.set_label(\"Hello\")\n",
    "\n",
    "plt.savefig(\"spearman_protein.png\")\n",
    "plt.show()\n"
   ]
  },
  {
   "cell_type": "code",
   "execution_count": 35,
   "id": "7d33d0fe",
   "metadata": {},
   "outputs": [],
   "source": [
    "# 2. fill in the data frame!\n",
    "    for g2 in gene_names:\n",
    "        # calculate the correlations between protein and RNA\n",
    "        # then, use .loc[] to store the correlation in corr_df\n",
    "        corr, pval = stats.spearmanr(rna_shared[g1], prot_shared[g2], nan_policy=\"omit\")\n",
    "        corr_df.loc[g1, g2] = corr"
   ]
  },
  {
   "cell_type": "code",
   "execution_count": 38,
   "id": "38090be9",
   "metadata": {},
   "outputs": [
    {
     "data": {
      "image/png": "[encoded data removed]",
      "text/plain": [
       "<Figure size 432x288 with 2 Axes>"
      ]
     },
     "metadata": {
      "needs_background": "light"
     },
     "output_type": "display_data"
    }
   ],
   "source": [
    "# 3. create the heat map\n",
    "sns.heatmap(\n",
    "    corr_df,\n",
    "    cmap='mako',\n",
    "    cbar_kws={\"label\": \"Correlation\"}\n",
    ")\n",
    "\n",
    "plt.xlabel('Gene Name (RNA Expression)') \n",
    "plt.ylabel('Gene Name (Protein Level)')\n",
    "# plt.colorbar\n",
    "# ax.collections[0].colorbar.set_label(\"Hello\")\n",
    "\n",
    "plt.savefig(\"spearman.png\")\n",
    "plt.show()\n"
   ]
  },
  {
   "cell_type": "code",
   "execution_count": null,
   "id": "fitting-halifax",
   "metadata": {},
   "outputs": [],
   "source": []
  }
 ],
 "metadata": {
  "kernelspec": {
   "display_name": "Python 3",
   "language": "python",
   "name": "python3"
  },
  "language_info": {
   "codemirror_mode": {
    "name": "ipython",
    "version": 3
   },
   "file_extension": ".py",
   "mimetype": "text/x-python",
   "name": "python",
   "nbconvert_exporter": "python",
   "pygments_lexer": "ipython3",
   "version": "3.9.2"
  }
 },
 "nbformat": 4,
 "nbformat_minor": 5
}
