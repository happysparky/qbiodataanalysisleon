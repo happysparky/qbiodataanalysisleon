{
 "cells": [
  {
   "cell_type": "code",
   "execution_count": 1,
   "id": "unlike-raise",
   "metadata": {},
   "outputs": [],
   "source": [
    "import cptac\n",
    "import pandas as pd\n",
    "import numpy as np\n",
    "import matplotlib.pyplot as plt\n",
    "import seaborn as sns\n",
    "import scipy.stats as stats "
   ]
  },
  {
   "cell_type": "code",
   "execution_count": 3,
   "id": "designed-nancy",
   "metadata": {},
   "outputs": [
    {
     "name": "stdout",
     "output_type": "stream",
     "text": [
      "                                         \r"
     ]
    }
   ],
   "source": [
    "cptac.download(dataset=\"Brca\")\n",
    "br = cptac.Brca()\n",
    "\n",
    "protein_data = br.get_proteomics()\n",
    "\n",
    "#The dataframes are MultIndex pandas dataframes. \n",
    "#However, to teach the basics of pandas, we will remove the \"multi\" part of the dataframe.\n",
    "protein_data = protein_data.droplevel(1, axis=1)\n",
    "\n",
    "rna_data = br.get_transcriptomics()\n",
    "clinical_data = br.get_clinical()"
   ]
  },
  {
   "cell_type": "code",
   "execution_count": 4,
   "id": "utility-editing",
   "metadata": {},
   "outputs": [],
   "source": [
    "clinical_data[\"Age_in_years\"] = clinical_data[\"Age.in.Month\"]/12 #fill in with correct math"
   ]
  },
  {
   "cell_type": "code",
   "execution_count": 15,
   "id": "impressed-reproduction",
   "metadata": {},
   "outputs": [
    {
     "name": "stdout",
     "output_type": "stream",
     "text": [
      "7767\n",
      "7586\n"
     ]
    }
   ],
   "source": [
    "#Step 2: Find the genes that are in the both protein_data and rna_data\n",
    "\n",
    "#There are NA's in the protein_data and rna_data\n",
    "#We will just drop any genes (columns) that have NA's\n",
    "protein_data.dropna(inplace=True, axis=1 )\n",
    "rna_data.dropna(inplace=True, axis=1 )\n",
    "\n",
    "#Notice that the there are repeated genes in the protein data\n",
    "#Does this make sense?\n",
    "print( protein_data.shape[1] ) #number of columns (genes)\n",
    "print( len(np.unique(protein_data.columns)) ) #number of UNIQUE columns (genes)\n",
    "\n",
    "unique_genes = np.intersect1d( rna_data.columns, protein_data.columns )\n",
    "\n",
    "#Fill in the []. Use : and unique_genes.\n",
    "\n",
    "#Separate categories by age \n",
    "young_mask = clinical_data[\"Age_in_years\"] <= 40.0\n",
    "old_mask = clinical_data[\"Age_in_years\"] >= 60.0\n",
    "\n",
    "\n",
    "rna_young = rna_data[ young_mask ]\n",
    "protein_young = protein_data[ young_mask ]\n",
    "rna_old = rna_data[ old_mask ]\n",
    "protein_old = protein_data[ old_mask ]\n",
    "\n",
    "\n",
    "protein_data_young = protein_young.loc[:, unique_genes]\n",
    "rna_data_young = rna_young.loc[:, genes_with_repeats]\n",
    "\n",
    "protein_data_old = protein_old.loc[:, unique_genes]\n",
    "rna_data_old = rna_old.loc[:, genes_with_repeats]\n"
   ]
  },
  {
   "cell_type": "code",
   "execution_count": 13,
   "id": "improving-biography",
   "metadata": {},
   "outputs": [],
   "source": [
    "#Step 3: Calculate the Spearman correlations\n",
    "\n",
    "#We need to calculate a spearman rho for each pair of genes (transcriptomics and proteomics)\n",
    "#this calls for nested for loops!\n",
    "\n",
    "#What are the dimensions of your final graph?\n",
    "#Change later\n",
    "genes_with_repeats_subset = protein_data[1:21]\n",
    "n = 20 #fill in with the dimension of one axis. The graph is square.\n",
    "final_graph = np.zeros( (n,n) )\n",
    "\n",
    "for i, geneA in enumerate( genes_with_repeats_subset ):\n",
    "\n",
    "    #we will fill in row by row\n",
    "    graph_row = []\n",
    "    for j, geneB in enumerate( genes_with_repeats_subset ):\n",
    "        \n",
    "        rho, spear_pvalue = stats.spearmanr( rna_data_genes.iloc[:,i], protein_data_genes.iloc[:,j])\n",
    "        \n",
    "        #append rho to graph_row here\n",
    "        graph_row.append(rho)\n",
    "    \n",
    "    #set row i of final_graph equal to graph_row\n",
    "    #remember [row, col] format, with : referring to all rows or all cols\n",
    "    final_graph[i][:] = graph_row"
   ]
  },
  {
   "cell_type": "code",
   "execution_count": 8,
   "id": "northern-literature",
   "metadata": {},
   "outputs": [],
   "source": []
  },
  {
   "cell_type": "code",
   "execution_count": 11,
   "id": "considerable-sister",
   "metadata": {},
   "outputs": [
    {
     "data": {
      "image/png": "[encoded data removed]",
      "text/plain": [
       "<Figure size 432x288 with 3 Axes>"
      ]
     },
     "metadata": {
      "needs_background": "light"
     },
     "output_type": "display_data"
    }
   ],
   "source": [
    "#Step 4: Create the Heatmap\n",
    "\n",
    "fig, ax = plt.subplots(2, 1, sharex=True)\n",
    "ax[0] = sns.heatmap(final_graph, cmap='RdBu', xticklabels=genes_with_repeats_subset, \\\n",
    "                                                yticklabels=genes_with_repeats_subset, center=0, vmin=-1, vmax=1)\n",
    "#ax[0].set_title(\"cool title\")\n",
    "ax[0].set_ylabel(\"informative y axis label\")\n",
    "ax[0].set_xlabel(\"informative x axis label\")\n",
    "\n",
    "ax[0] = sns.heatmap(final_graph, cmap='RdBu', xticklabels=genes_with_repeats_subset, \\\n",
    "                                                yticklabels=genes_with_repeats_subset, center=0, vmin=-1, vmax=1)\n",
    "#ax[0].set_title(\"cool title\")\n",
    "ax[0].set_ylabel(\"informative y axis label\")\n",
    "ax[0].set_xlabel(\"informative x axis label\")\n",
    "plt.show() #Use in Jupyter, Comment out if running full script\n",
    "#plt.savefig(\"PATH/FILE.png\", bbox_inches=\"tight\") #Use to save figure if running full script"
   ]
  },
  {
   "cell_type": "code",
   "execution_count": null,
   "id": "willing-madagascar",
   "metadata": {},
   "outputs": [],
   "source": []
  }
 ],
 "metadata": {
  "kernelspec": {
   "display_name": "Python 3",
   "language": "python",
   "name": "python3"
  },
  "language_info": {
   "codemirror_mode": {
    "name": "ipython",
    "version": 3
   },
   "file_extension": ".py",
   "mimetype": "text/x-python",
   "name": "python",
   "nbconvert_exporter": "python",
   "pygments_lexer": "ipython3",
   "version": "3.9.2"
  }
 },
 "nbformat": 4,
 "nbformat_minor": 5
}
